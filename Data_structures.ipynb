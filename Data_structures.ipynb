{
  "nbformat": 4,
  "nbformat_minor": 0,
  "metadata": {
    "colab": {
      "provenance": [],
      "include_colab_link": true
    },
    "kernelspec": {
      "name": "python3",
      "display_name": "Python 3"
    }
  },
  "cells": [
    {
      "cell_type": "markdown",
      "metadata": {
        "id": "view-in-github",
        "colab_type": "text"
      },
      "source": [
        "<a href=\"https://colab.research.google.com/github/anadeleame/biologyproblems/blob/main/Data_structures.ipynb\" target=\"_parent\"><img src=\"https://colab.research.google.com/assets/colab-badge.svg\" alt=\"Open In Colab\"/></a>"
      ]
    },
    {
      "cell_type": "markdown",
      "source": [
        "# Exercise 1\n",
        "\n",
        "Make a program that receives an aminoacid sequence and checks if there's an invalid aminoacid, returning 'Your sequence is invalid'. If it is not invalid, the program calculates the total mass of the given sequence."
      ],
      "metadata": {
        "id": "VERWr6ttpbmw"
      }
    },
    {
      "cell_type": "code",
      "source": [
        "seq = str(input('Type your aminoacid sequence: ')).upper()\n",
        "\n",
        "sequences = {'A':71.08, 'R':156.19, 'N':114.11, 'D':115.09,'C':103.15, 'E':129.12,  'Q':128.13,'G':57.05, 'H':137.14, 'I':113.16, 'L':113.16, 'K':128.18, 'M':131.20, 'F':147.18, 'P':97.12, 'S':87.08, 'T':101.11, 'W':186.22, 'Y':163.18, 'V':99.13}\n",
        "sum = 0\n",
        "invalid = False\n",
        "\n",
        "for aminoacid in seq:\n",
        "  if aminoacid not in sequences:\n",
        "    print(f'Your sequence is invalid')\n",
        "    invalid = True\n",
        "\n",
        "if invalid == False:\n",
        "  for aminoacid in seq:\n",
        "    sum+= sequences.get(aminoacid, value)\n",
        "  print(f'The total mass is {sum} g/mol')"
      ],
      "metadata": {
        "colab": {
          "base_uri": "https://localhost:8080/"
        },
        "id": "qN88EQOLSw5f",
        "outputId": "07946b29-8f7b-4389-d319-89856613f73e"
      },
      "execution_count": null,
      "outputs": [
        {
          "output_type": "stream",
          "name": "stdout",
          "text": [
            "Type your aminoacid sequence: ARNDQHI\n",
            "The total mass is 834.9 g/mol\n"
          ]
        }
      ]
    },
    {
      "cell_type": "markdown",
      "source": [
        "# Exercise 2\n",
        "\n",
        "Make a program that asks how many species were collected, then the name of the specie and how many specimens of each specie. Store it in a data structure and obtain the sum and the average of specimens collected by specie."
      ],
      "metadata": {
        "id": "KfsUBKHyTTP8"
      }
    },
    {
      "cell_type": "code",
      "source": [
        "species = int(input('How many species were collected?: '))\n",
        "n = 0\n",
        "data = dict()\n",
        "sum = 0\n",
        "\n",
        "while n != species:\n",
        "  names = str(input('Type the species name: '))\n",
        "  specimens = int(input('How many specimens were collected?: '))\n",
        "  data[names] = specimens\n",
        "  n += 1\n",
        "\n",
        "for element in data:\n",
        "  sum += data.get(element, value)\n",
        "\n",
        "average = sum/species\n",
        "\n",
        "print(f'The sum of specimens collected were: {sum}')\n",
        "print(f'The average of specimens collected by specie were: {average}')"
      ],
      "metadata": {
        "colab": {
          "base_uri": "https://localhost:8080/"
        },
        "id": "c24UhqVrT9s8",
        "outputId": "ebec7214-fdcd-43f6-b1c5-ae34864ccfec"
      },
      "execution_count": null,
      "outputs": [
        {
          "output_type": "stream",
          "name": "stdout",
          "text": [
            "How many species were collected?: 2\n",
            "Type the species name: Aedes aegypti\n",
            "How many specimens were collected?: 14\n",
            "Type the species name: Aedes albopictus\n",
            "How many specimens were collected?: 12\n",
            "The sum of specimens collected were: 26\n",
            "The average of specimens collected by specie were: 13.0\n"
          ]
        }
      ]
    },
    {
      "cell_type": "markdown",
      "source": [
        "# Exercise 3\n",
        "\n",
        "Make a program that transcribes a sequence of DNA into RNA, but implementing through a dictionary."
      ],
      "metadata": {
        "id": "rqGzbxY8Ubvq"
      }
    },
    {
      "cell_type": "code",
      "source": [
        "sequence = str(input('Type your DNA sequence: ')).upper()\n",
        "dna_to_rna = {'A':'U', 'T':'A', 'C':'G', 'G':'C'}\n",
        "rna = ''\n",
        "\n",
        "for base in sequence:\n",
        "  if base in dna_to_rna:\n",
        "    rna += dna_to_rna.get(base, value)\n",
        "\n",
        "print(f'Your RNA sequence is: {rna}')"
      ],
      "metadata": {
        "colab": {
          "base_uri": "https://localhost:8080/"
        },
        "id": "2965lCQVUrb5",
        "outputId": "5119f644-94a4-40e9-8f1b-d3087733c76d"
      },
      "execution_count": null,
      "outputs": [
        {
          "output_type": "stream",
          "name": "stdout",
          "text": [
            "Type your DNA sequence: cgactatatca\n",
            "Your RNA sequence is: GCUGAUAUAGU\n"
          ]
        }
      ]
    }
  ]
}
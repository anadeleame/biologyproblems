{
  "nbformat": 4,
  "nbformat_minor": 0,
  "metadata": {
    "colab": {
      "provenance": [],
      "include_colab_link": true
    },
    "kernelspec": {
      "name": "python3",
      "display_name": "Python 3"
    }
  },
  "cells": [
    {
      "cell_type": "markdown",
      "metadata": {
        "id": "view-in-github",
        "colab_type": "text"
      },
      "source": [
        "<a href=\"https://colab.research.google.com/github/anadeleame/biologyproblems/blob/main/Functions.ipynb\" target=\"_parent\"><img src=\"https://colab.research.google.com/assets/colab-badge.svg\" alt=\"Open In Colab\"/></a>"
      ]
    },
    {
      "cell_type": "markdown",
      "metadata": {
        "id": "IEcrEbE3Ff-i"
      },
      "source": [
        "# Functions\n",
        "\n",
        "- Receives a certain name and can be called multiple times during execution;\n",
        "- Main advantages: code reuse, modularity and ease of system maintenance."
      ]
    },
    {
      "cell_type": "markdown",
      "metadata": {
        "id": "hVl4JmCBFh35"
      },
      "source": [
        "## Function without parameter and return\n",
        "\n"
      ]
    },
    {
      "cell_type": "code",
      "metadata": {
        "id": "tDHyzEN6Y-E1"
      },
      "source": [
        "def function():\n",
        "  print('Text here')"
      ],
      "execution_count": 1,
      "outputs": []
    },
    {
      "cell_type": "code",
      "metadata": {
        "id": "r-_JEbYrZHFR",
        "colab": {
          "base_uri": "https://localhost:8080/"
        },
        "outputId": "fd3643f3-7ab0-48c1-df38-cac0bf89d892"
      },
      "source": [
        "function()\n",
        "function()\n",
        "function()"
      ],
      "execution_count": 2,
      "outputs": [
        {
          "output_type": "stream",
          "name": "stdout",
          "text": [
            "Text here\n",
            "Text here\n",
            "Text here\n"
          ]
        }
      ]
    },
    {
      "cell_type": "markdown",
      "metadata": {
        "id": "acu6pXhQHffb"
      },
      "source": [
        "## Function with parameter"
      ]
    },
    {
      "cell_type": "code",
      "metadata": {
        "id": "wCegzOSuZWNY"
      },
      "source": [
        "def function(text): #A parameter is the variable listed inside the parentheses in the function definition.\n",
        "  print(text)"
      ],
      "execution_count": 4,
      "outputs": []
    },
    {
      "cell_type": "code",
      "metadata": {
        "id": "5Mu-2bGUZdIZ",
        "colab": {
          "base_uri": "https://localhost:8080/"
        },
        "outputId": "3fecf98c-938e-49ba-cd00-342e32860c99"
      },
      "source": [
        "function('hello,') #I can't call this function without an argument. He attributes it to the parameter 'text' inside the function.\n",
        "function('how are you')\n",
        "function('?')"
      ],
      "execution_count": 5,
      "outputs": [
        {
          "output_type": "stream",
          "name": "stdout",
          "text": [
            "hello,\n",
            "how are you\n",
            "?\n"
          ]
        }
      ]
    },
    {
      "cell_type": "code",
      "metadata": {
        "id": "Qlf-zQJCZyZR"
      },
      "source": [
        "def summ(a, b):\n",
        "  print(a + b)"
      ],
      "execution_count": 6,
      "outputs": []
    },
    {
      "cell_type": "code",
      "metadata": {
        "id": "ykaR-XQQZ2uf",
        "colab": {
          "base_uri": "https://localhost:8080/"
        },
        "outputId": "5eb9844c-8cd1-497b-ae9d-e6f5dc8ef13d"
      },
      "source": [
        "summ(2, 3)"
      ],
      "execution_count": 7,
      "outputs": [
        {
          "output_type": "stream",
          "name": "stdout",
          "text": [
            "5\n"
          ]
        }
      ]
    },
    {
      "cell_type": "code",
      "metadata": {
        "id": "el9_XnkxZ7PT",
        "colab": {
          "base_uri": "https://localhost:8080/"
        },
        "outputId": "c9e3721f-6afb-43aa-cbdc-f46e86aafb40"
      },
      "source": [
        "summ(3, 3)\n",
        "summ(1, 2)"
      ],
      "execution_count": 8,
      "outputs": [
        {
          "output_type": "stream",
          "name": "stdout",
          "text": [
            "6\n",
            "3\n"
          ]
        }
      ]
    },
    {
      "cell_type": "markdown",
      "metadata": {
        "id": "A_OYX7XBIBCU"
      },
      "source": [
        "## Function with parameter and return (more used)"
      ]
    },
    {
      "cell_type": "code",
      "metadata": {
        "id": "SkkVQpIHaE14"
      },
      "source": [
        "def summ(a, b): #receives this parameters and returns the result\n",
        "  return a + b  #widely used when you want to assign the return of that function to a variable"
      ],
      "execution_count": 11,
      "outputs": []
    },
    {
      "cell_type": "code",
      "metadata": {
        "id": "V8f3NdypaMzA",
        "colab": {
          "base_uri": "https://localhost:8080/"
        },
        "outputId": "cd84ac80-9332-407e-ec79-19f32a88eb71"
      },
      "source": [
        "summ(3, 2)"
      ],
      "execution_count": 12,
      "outputs": [
        {
          "output_type": "execute_result",
          "data": {
            "text/plain": [
              "5"
            ]
          },
          "metadata": {},
          "execution_count": 12
        }
      ]
    },
    {
      "cell_type": "code",
      "source": [],
      "metadata": {
        "id": "rdVdLUtdvzh2"
      },
      "execution_count": null,
      "outputs": []
    },
    {
      "cell_type": "code",
      "metadata": {
        "id": "AhQErC_faRQl",
        "colab": {
          "base_uri": "https://localhost:8080/",
          "height": 34
        },
        "outputId": "2f428ede-f980-428a-ac93-3684673d05c1"
      },
      "source": [
        "# r = 7\n",
        "r = summ(3, 2) #it is not receiving the function per se as a value, but what it returns\n",
        "print(r)"
      ],
      "execution_count": null,
      "outputs": [
        {
          "output_type": "stream",
          "text": [
            "5\n"
          ],
          "name": "stdout"
        }
      ]
    },
    {
      "cell_type": "code",
      "metadata": {
        "id": "wRhqE2ubamj2"
      },
      "source": [
        "def gravitational_potential_energy(m, h, g = 10): #we can put between 3 apostrophes a brief explanation about the function\n",
        "  '''\n",
        "  Calculates the gravitational potencial energy\n",
        "  Arguments:\n",
        "  m: mass (float)\n",
        "  h: height (float)\n",
        "\n",
        "  Optional argument:\n",
        "  g: gravitational acceleration (default value = 10)\n",
        "  '''\n",
        "  e = g * m * h\n",
        "  return e"
      ],
      "execution_count": 16,
      "outputs": []
    },
    {
      "cell_type": "code",
      "metadata": {
        "id": "QecHSc8aa2ai",
        "colab": {
          "base_uri": "https://localhost:8080/"
        },
        "outputId": "c5e88319-7bb5-4cec-b18e-dbfcd826990f"
      },
      "source": [
        "gravitational_potential_energy(30, 12)"
      ],
      "execution_count": 14,
      "outputs": [
        {
          "output_type": "execute_result",
          "data": {
            "text/plain": [
              "3600"
            ]
          },
          "metadata": {},
          "execution_count": 14
        }
      ]
    },
    {
      "cell_type": "code",
      "metadata": {
        "id": "5ZnVlGc1a6kR",
        "colab": {
          "base_uri": "https://localhost:8080/"
        },
        "outputId": "f5b4169e-081c-43c5-a989-0aab2860ed05"
      },
      "source": [
        "gravitational_potential_energy(30, 12, 9.8)"
      ],
      "execution_count": 17,
      "outputs": [
        {
          "output_type": "execute_result",
          "data": {
            "text/plain": [
              "3528.0"
            ]
          },
          "metadata": {},
          "execution_count": 17
        }
      ]
    },
    {
      "cell_type": "code",
      "metadata": {
        "id": "4w78UhKKbJ18",
        "colab": {
          "base_uri": "https://localhost:8080/"
        },
        "outputId": "e0ae771b-65b4-4d40-bd09-9c70e9dc6106"
      },
      "source": [
        "help(gravitational_potential_energy) #it will show the explanation we wrote about the function"
      ],
      "execution_count": 18,
      "outputs": [
        {
          "output_type": "stream",
          "name": "stdout",
          "text": [
            "Help on function gravitational_potential_energy in module __main__:\n",
            "\n",
            "gravitational_potential_energy(m, h, g=10)\n",
            "    Calculates the gravitational potencial energy     \n",
            "    Arguments:\n",
            "    m: mass (float)\n",
            "    h: height (float)\n",
            "    \n",
            "    Optional argument:\n",
            "    g: gravitational acceleration, (default value = 10)\n",
            "\n"
          ]
        }
      ]
    },
    {
      "cell_type": "markdown",
      "source": [
        "## Exercise 1\n",
        "\n",
        "#### Make a function that returns the percentage of adenines and thymines in a DNA sequence. This function must have, as a parameter, the DNA sequence, returning the % calculated by the program."
      ],
      "metadata": {
        "id": "8ud3J15pAlFu"
      }
    },
    {
      "cell_type": "code",
      "source": [
        "def ATcontent(DNA):\n",
        "  '''\n",
        "  Calculates the AT content in a sequence of DNA and returns its value in %.\n",
        "  '''\n",
        "  counter = 0\n",
        "  for base in DNA:\n",
        "    if 'A' in base or 'T' in base:\n",
        "      counter += 1\n",
        "  total = round((counter/len(DNA) * 100), 2)\n",
        "  return print(f'Your sequence has {total}% of adenine + thymine.')\n",
        "\n",
        "ATcontent('AGTAGATGTGCAGTCAGT')\n",
        ""
      ],
      "metadata": {
        "colab": {
          "base_uri": "https://localhost:8080/"
        },
        "id": "g-r4XbbdAobE",
        "outputId": "77445eae-5dfd-4a5d-fd94-b681e2ec2f3b"
      },
      "execution_count": 62,
      "outputs": [
        {
          "output_type": "stream",
          "name": "stdout",
          "text": [
            "Your sequence has 55.56% of adenine + thymine.\n"
          ]
        }
      ]
    },
    {
      "cell_type": "markdown",
      "source": [
        "## Exercise 2\n",
        "\n",
        "#### Make a function that calculates the inhibition constant (Ki) and returns its value.\n",
        "#####**OBS: IC50/1+([S]/Km)**\n",
        "\n",
        "#####IC50 = Inhibition constant's value\n",
        "#####S = Substrante concentration\n",
        "#####Km = Michaelis-Menten's constant"
      ],
      "metadata": {
        "id": "bSRwXvN6Ffwl"
      }
    },
    {
      "cell_type": "code",
      "source": [
        "def ki(ic50, S, Km):\n",
        "  '''\n",
        "  Calculates the Inhibition Constant (Ki) formula.\n",
        "  '''\n",
        "  formula = round((ic50/(1+(S/Km))), 3)\n",
        "  return print(f'The Ki value is {formula}')\n",
        "\n",
        "ki(3.22, 0.0045, 0.03)"
      ],
      "metadata": {
        "colab": {
          "base_uri": "https://localhost:8080/"
        },
        "id": "Sj5Wgg4sKlAf",
        "outputId": "b8a3b752-ed8b-41cf-bf50-c825af5a1f7e"
      },
      "execution_count": 72,
      "outputs": [
        {
          "output_type": "stream",
          "name": "stdout",
          "text": [
            "The Ki value is 2.8\n"
          ]
        }
      ]
    },
    {
      "cell_type": "markdown",
      "source": [
        "## Exercise 3\n",
        "\n",
        "#### Make a function that calculates the recombination rate, receiving 4 genotypes as parameters and returning the frequency in % with 2 decimal places.\n",
        "\n",
        "#####**OBS: (genrec1 + genrec2)/(genrec1 + genrec2 + nongenrec1 + nongenrec2)**"
      ],
      "metadata": {
        "id": "_tunJEY9LWJJ"
      }
    },
    {
      "cell_type": "code",
      "source": [
        "def recombination_rate(genrec1, genrec2, nongenrec1, nongenrec2):\n",
        "  '''\n",
        "  Calculates the recombination rate of genotypes.\n",
        "  '''\n",
        "  total = round((genrec1 + genrec2)/(genrec1 + genrec2 + nongenrec1 + nongenrec2) * 100, 2)\n",
        "  return print(f'The recombination rate is {total}%')\n",
        "\n",
        "recombination_rate(211, 200, 564, 610)"
      ],
      "metadata": {
        "colab": {
          "base_uri": "https://localhost:8080/"
        },
        "id": "JB51J3jRL01d",
        "outputId": "5fd511bf-00dd-41fe-846d-82b0ef7239b4"
      },
      "execution_count": 74,
      "outputs": [
        {
          "output_type": "stream",
          "name": "stdout",
          "text": [
            "The recombination rate is 25.93%\n"
          ]
        }
      ]
    }
  ]
}
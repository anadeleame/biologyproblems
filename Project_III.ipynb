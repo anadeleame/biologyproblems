{
  "nbformat": 4,
  "nbformat_minor": 0,
  "metadata": {
    "colab": {
      "provenance": [],
      "authorship_tag": "ABX9TyNvkYzYOWLl723D9lvcPZJk",
      "include_colab_link": true
    },
    "kernelspec": {
      "name": "python3",
      "display_name": "Python 3"
    },
    "language_info": {
      "name": "python"
    }
  },
  "cells": [
    {
      "cell_type": "markdown",
      "metadata": {
        "id": "view-in-github",
        "colab_type": "text"
      },
      "source": [
        "<a href=\"https://colab.research.google.com/github/anadeleame/biologyproblems/blob/main/Project_III.ipynb\" target=\"_parent\"><img src=\"https://colab.research.google.com/assets/colab-badge.svg\" alt=\"Open In Colab\"/></a>"
      ]
    },
    {
      "cell_type": "markdown",
      "source": [
        "# Project III\n",
        "\n",
        "**1 -** Make a module that validate numbers 1, 2, 3 and 4;\n",
        "\n",
        "**2 -** Import it to Colab;\n",
        "\n",
        "**3 -** Update the module DNA functions to add a function of AT content and another one that generates the complement sequence of a given DNA. Import it too;\n",
        "\n",
        "**4 -** Import a FASTA sequence;\n",
        "\n",
        "**5 -** Run a program that offers 4 options:\n",
        "\n",
        "  1) Complement sequence of the FASTA sequence;\n",
        "\n",
        "  2) Transcription of the FASTA sequence;\n",
        "\n",
        "  3) GC content;\n",
        "\n",
        "  4) AT content.\n",
        "\n",
        "▶ 1 and 2 must return a .txt file.\n",
        "\n",
        "▶ 3 and 4 must print the result on the screen."
      ],
      "metadata": {
        "id": "VnKmBmr0JlX2"
      }
    },
    {
      "cell_type": "code",
      "execution_count": 2,
      "metadata": {
        "id": "ich5PREZ6cfF",
        "colab": {
          "base_uri": "https://localhost:8080/"
        },
        "outputId": "3bfc25aa-91cf-4035-8a2a-3aedfbafeb53"
      },
      "outputs": [
        {
          "output_type": "stream",
          "name": "stdout",
          "text": [
            "Which service do you require? 4\n",
            "Your sequence has 62.03% of AT content.\n"
          ]
        }
      ],
      "source": [
        "import validate_numbers as nb\n",
        "import functions as fc\n",
        "\n",
        "sequencefasta = ''\n",
        "\n",
        "with open ('sequence.fasta', 'r') as fasta:\n",
        "  for line in fasta:\n",
        "    if '>' not in line:\n",
        "      sequencefasta += line.rstrip()\n",
        "\n",
        "ans = nb.validate_numbers()\n",
        "\n",
        "if ans == 1:\n",
        "  fc.complement(sequencefasta)\n",
        "elif ans == 2:\n",
        "  fc.transcription(sequencefasta)\n",
        "elif ans == 3:\n",
        "  fc.gc_content(sequencefasta)\n",
        "else:\n",
        "  fc.at_content(sequencefasta)"
      ]
    },
    {
      "cell_type": "code",
      "source": [
        "#Modules I used\n",
        "\n",
        "#validate_numbers:\n",
        "\n",
        "def validate_numbers():\n",
        "    a = True\n",
        "    while a:\n",
        "        try:\n",
        "            ask = int(input('Which service do you require? '))\n",
        "        except ValueError:\n",
        "            print('That is not a valid answer. Please, try again.')\n",
        "        else:\n",
        "            if ask != 1 and ask != 2 and ask != 3 and ask!= 4:\n",
        "                print('Choose an integer number between 1 and 4.')\n",
        "            else:\n",
        "                a = False\n",
        "    return ask\n",
        "\n",
        "#functions:\n",
        "\n",
        "def gc_content(seqDNA):\n",
        "    '''\n",
        "    Calculates GC content in a given sequence of DNA.\n",
        "    '''\n",
        "    counter = 0\n",
        "\n",
        "    for base in seqDNA:\n",
        "        if 'G' in base or 'C' in base:\n",
        "            counter += 1\n",
        "    content = round((counter/len(seqDNA)) * 100, 2)\n",
        "\n",
        "    return print(f'Your sequence has {content}% of GC content.')\n",
        "\n",
        "def seqrandom(length):\n",
        "    '''\n",
        "    Randomize a sequence based on the input size.\n",
        "    '''\n",
        "    import random as rm\n",
        "\n",
        "    bases = ('A', 'C', 'G', 'T')\n",
        "    sequenceofDNA = ''\n",
        "    n = 0\n",
        "\n",
        "    while n != length:\n",
        "        sequenceofDNA += rm.choice(bases)\n",
        "        n +=1\n",
        "\n",
        "    return print(f'A possible sequence with the size you chose: {sequenceofDNA}')\n",
        "\n",
        "def transcription(DNA):\n",
        "    '''\n",
        "    Transcribe a given DNA to RNA.\n",
        "    '''\n",
        "\n",
        "    DNAtoRNA = {'A':'U','T':'A','G':'C','C':'G'}\n",
        "    RNA = ''\n",
        "    output2 = open('transcription.txt', 'w')\n",
        "\n",
        "    for base in DNA:\n",
        "        if base in DNAtoRNA:\n",
        "            RNA += DNAtoRNA[base]\n",
        "    return output2.write(f'Your sequence of DNA transcribed to RNA is {RNA}')\n",
        "\n",
        "def at_content(at):\n",
        "    '''\n",
        "    Calculates AT content in a given sequence of DNA.\n",
        "    '''\n",
        "    counter = 0\n",
        "\n",
        "    for base in at:\n",
        "        if 'A' in base or 'T' in base:\n",
        "            counter += 1\n",
        "    content = round((counter/len(at)) * 100, 2)\n",
        "\n",
        "    return print(f'Your sequence has {content}% of AT content.')\n",
        "\n",
        "def complement(com):\n",
        "    '''\n",
        "    Gives the complementary sequence of a given sequence.\n",
        "    '''\n",
        "    DNAtoDNA = {'A':'T','T':'A','G':'C','C':'G'}\n",
        "    comp = ''\n",
        "    output1 = open('complement.txt', 'w')\n",
        "\n",
        "    for base in com:\n",
        "        if base in DNAtoDNA:\n",
        "            comp += DNAtoDNA[base]\n",
        "    return output1.write(f'Your sequence of the complementary DNA is {comp}')\n"
      ],
      "metadata": {
        "id": "2cmacdQiAzP7"
      },
      "execution_count": null,
      "outputs": []
    }
  ]
}
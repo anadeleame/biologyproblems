{
  "nbformat": 4,
  "nbformat_minor": 0,
  "metadata": {
    "colab": {
      "provenance": [],
      "include_colab_link": true
    },
    "kernelspec": {
      "name": "python3",
      "display_name": "Python 3"
    }
  },
  "cells": [
    {
      "cell_type": "markdown",
      "metadata": {
        "id": "view-in-github",
        "colab_type": "text"
      },
      "source": [
        "<a href=\"https://colab.research.google.com/github/anadeleame/biologyproblems/blob/main/Conditional_Operators.ipynb\" target=\"_parent\"><img src=\"https://colab.research.google.com/assets/colab-badge.svg\" alt=\"Open In Colab\"/></a>"
      ]
    },
    {
      "cell_type": "markdown",
      "metadata": {
        "id": "pt5Crzm9dcS-"
      },
      "source": [
        "# Conditional Operators"
      ]
    },
    {
      "cell_type": "markdown",
      "source": [
        "**1) IDENTIFYING TAXONOMIC FAMILIES:** knowing that plant families end with -*aceae* and animal families end with -*idae*, write a program that returns \"plant family\", \"animal family\" or \"unidentified taxon\" depending on the input of the user."
      ],
      "metadata": {
        "id": "utxW0aiB_oQe"
      }
    },
    {
      "cell_type": "code",
      "source": [
        "name = input('Type the name of the family: ')\n",
        "\n",
        "if name[-5:] == 'aceae':\n",
        "  print(f'{name} is a plant family.')\n",
        "elif name[-4:] == 'idae':\n",
        "  print(f'{name} is an animal family.')\n",
        "else:\n",
        "  print(f'Non identified taxon.')"
      ],
      "metadata": {
        "id": "UN1UO-wQAFXO"
      },
      "execution_count": null,
      "outputs": []
    },
    {
      "cell_type": "markdown",
      "source": [
        "**2) ANALYZING HEMATOLOGICAL PARAMETERS:** write a code that receives three inputs: red blood cell, hemoglobin and hematocrit values. Print on the screen if the value is within the normal range or not.\n",
        "\n",
        "Red blood cell = 4.5-5.5x10¹²/L\n",
        "\n",
        "Hemoglobin = 13-17g/dL\n",
        "\n",
        "Hematocrit = 40-50%"
      ],
      "metadata": {
        "id": "CPjB2spzAzWk"
      }
    },
    {
      "cell_type": "code",
      "source": [
        "redcell = float(input('Red blood cells value in 10¹²/L: '))\n",
        "hemoglobin = float(input('Hemoglobin value in g/dL: '))\n",
        "hematocrit = float(input('Hematocrit value in %: '))\n",
        "\n",
        "if redcell >= 4.5 and redcell <= 5.5:\n",
        "  print('Your red blood cells value is normal!')\n",
        "else:\n",
        "  print('Your red blood cells value is not normal.')\n",
        "\n",
        "if hemoglobin >=13 and hemoglobin <= 17:\n",
        "  print('Your hemoglobin value is normal!')\n",
        "else:\n",
        "  print('Your hemoglobin value is not normal.')\n",
        "\n",
        "if hematocrit >=40 and hematocrit <= 50:\n",
        "  print('Your hematocrit value is normal!')\n",
        "else:\n",
        "  print('Your hematocrit value is not normal.')"
      ],
      "metadata": {
        "id": "5KFuQ9ysBVsL"
      },
      "execution_count": null,
      "outputs": []
    },
    {
      "cell_type": "markdown",
      "source": [
        "**2) DETECTION OF INITIATION AND TERMINATION CODONS:** write a code that receives an RNA sequence and prints on the screen if exists a:\n",
        "1. Start codon (AUG)\n",
        "2. Termination codon (UGA/UAG/UAA)\n",
        "3. Both\n",
        "4. None"
      ],
      "metadata": {
        "id": "noM4pUVeEXN_"
      }
    },
    {
      "cell_type": "code",
      "source": [
        "RNA = input('Type your RNA sequence: ')\n",
        "\n",
        "if 'AUG' in RNA:\n",
        "  if 'UGA' in RNA or 'UAG' in RNA or 'UAA' in RNA:\n",
        "    print('There are start and stop codons in your sequence!')\n",
        "  else:\n",
        "    print('There is a start codon in your sequence!')\n",
        "elif 'UGA' in RNA or 'UAG' in RNA or 'UAA' in RNA:\n",
        "  print('There is a stop codon in your sequence!')\n",
        "else:\n",
        "  print('There are no start or stop codons in your sequence.')"
      ],
      "metadata": {
        "id": "eVQ4PpUDFTnF"
      },
      "execution_count": null,
      "outputs": []
    }
  ]
}
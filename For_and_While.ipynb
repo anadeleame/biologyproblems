{
  "nbformat": 4,
  "nbformat_minor": 0,
  "metadata": {
    "colab": {
      "provenance": [],
      "include_colab_link": true
    },
    "kernelspec": {
      "name": "python3",
      "display_name": "Python 3"
    }
  },
  "cells": [
    {
      "cell_type": "markdown",
      "metadata": {
        "id": "view-in-github",
        "colab_type": "text"
      },
      "source": [
        "<a href=\"https://colab.research.google.com/github/anadeleame/biologyproblems/blob/main/For_and_While.ipynb\" target=\"_parent\"><img src=\"https://colab.research.google.com/assets/colab-badge.svg\" alt=\"Open In Colab\"/></a>"
      ]
    },
    {
      "cell_type": "markdown",
      "metadata": {
        "id": "5hg58pyZe2oS"
      },
      "source": [
        "# For and While"
      ]
    },
    {
      "cell_type": "markdown",
      "source": [
        "##Exercise 1\n",
        "####A program that transcribes a given DNA sequence and prints the RNA on the screen."
      ],
      "metadata": {
        "id": "np2hZz12KVg5"
      }
    },
    {
      "cell_type": "code",
      "source": [
        "dna = input('Type your sequence: ')\n",
        "rna = ''\n",
        "for sequence in dna:\n",
        "  if 'A' in sequence:\n",
        "    rna = rna + 'U'\n",
        "  if 'T' in sequence:\n",
        "    rna = rna + 'A'\n",
        "  if 'C' in sequence:\n",
        "    rna = rna + 'G'\n",
        "  if 'G' in sequence:\n",
        "    rna = rna + 'C'\n",
        "print(rna)"
      ],
      "metadata": {
        "id": "OEu9clrcKgIY",
        "colab": {
          "base_uri": "https://localhost:8080/"
        },
        "outputId": "9f8c1001-b442-41c6-b5fb-71d4452ae671"
      },
      "execution_count": 1,
      "outputs": [
        {
          "output_type": "stream",
          "name": "stdout",
          "text": [
            "Type your sequence: GTGCATGCATGCTGGGGGCATGCA\n",
            "CACGUACGUACGACCCCCGUACGU\n"
          ]
        }
      ]
    },
    {
      "cell_type": "markdown",
      "source": [
        "##Exercise 2\n",
        "####Assuming we have an initial bacterial population of 500 individuals and that the growth occurs at 2.5x every 3 hours, how many hours does it take to have 100,000 individuals?"
      ],
      "metadata": {
        "id": "98_uRgi-MtSc"
      }
    },
    {
      "cell_type": "code",
      "source": [
        "len = 500\n",
        "loop = 0\n",
        "\n",
        "while len <= 100000:\n",
        "  len = len * 2.5\n",
        "  loop = loop + 3\n",
        "\n",
        "print(loop)"
      ],
      "metadata": {
        "colab": {
          "base_uri": "https://localhost:8080/"
        },
        "id": "n1NcZVhJN0wR",
        "outputId": "09f90835-3c44-4fd6-826d-ae08d5906156"
      },
      "execution_count": 3,
      "outputs": [
        {
          "output_type": "stream",
          "name": "stdout",
          "text": [
            "18\n"
          ]
        }
      ]
    },
    {
      "cell_type": "markdown",
      "source": [
        "##Exercise 3\n",
        "\n",
        "####Stages of bacterial growth:\n",
        "#####Lag phase = 15h - no growth\n",
        "#####Exponential phase = 10h - increases by 2.5x every hour\n",
        "#####Stationary phase = 5h - no growth\n",
        "#####Death phase = ? - decreases by 50% every hour\n",
        "\n",
        "####Calculate in how many hours the population reaches zero."
      ],
      "metadata": {
        "id": "dKr56X3cQ1y2"
      }
    },
    {
      "cell_type": "code",
      "source": [
        "bact = 500\n",
        "hours = 0\n",
        "\n",
        "while bact > 0:\n",
        "  if hours <= 15:\n",
        "    bact = bact\n",
        "  elif hours > 15 and hours <= 25:\n",
        "    bact = bact * 2.5\n",
        "  elif hours > 25 and hours <= 30:\n",
        "    bact = bact\n",
        "  elif hours > 30:\n",
        "    bact = int(bact * 0.5)\n",
        "  hours += 1\n",
        "  print(f'Number of bacterias in {hours} hours: {bact}')"
      ],
      "metadata": {
        "id": "k6W-AtQSRjaU",
        "colab": {
          "base_uri": "https://localhost:8080/"
        },
        "outputId": "58e57dc7-6865-4d27-b364-953dad438be0"
      },
      "execution_count": 2,
      "outputs": [
        {
          "output_type": "stream",
          "name": "stdout",
          "text": [
            "Number of bacterias in 1 hours: 500\n",
            "Number of bacterias in 2 hours: 500\n",
            "Number of bacterias in 3 hours: 500\n",
            "Number of bacterias in 4 hours: 500\n",
            "Number of bacterias in 5 hours: 500\n",
            "Number of bacterias in 6 hours: 500\n",
            "Number of bacterias in 7 hours: 500\n",
            "Number of bacterias in 8 hours: 500\n",
            "Number of bacterias in 9 hours: 500\n",
            "Number of bacterias in 10 hours: 500\n",
            "Number of bacterias in 11 hours: 500\n",
            "Number of bacterias in 12 hours: 500\n",
            "Number of bacterias in 13 hours: 500\n",
            "Number of bacterias in 14 hours: 500\n",
            "Number of bacterias in 15 hours: 500\n",
            "Number of bacterias in 16 hours: 500\n",
            "Number of bacterias in 17 hours: 1250.0\n",
            "Number of bacterias in 18 hours: 3125.0\n",
            "Number of bacterias in 19 hours: 7812.5\n",
            "Number of bacterias in 20 hours: 19531.25\n",
            "Number of bacterias in 21 hours: 48828.125\n",
            "Number of bacterias in 22 hours: 122070.3125\n",
            "Number of bacterias in 23 hours: 305175.78125\n",
            "Number of bacterias in 24 hours: 762939.453125\n",
            "Number of bacterias in 25 hours: 1907348.6328125\n",
            "Number of bacterias in 26 hours: 4768371.58203125\n",
            "Number of bacterias in 27 hours: 4768371.58203125\n",
            "Number of bacterias in 28 hours: 4768371.58203125\n",
            "Number of bacterias in 29 hours: 4768371.58203125\n",
            "Number of bacterias in 30 hours: 4768371.58203125\n",
            "Number of bacterias in 31 hours: 4768371.58203125\n",
            "Number of bacterias in 32 hours: 2384185\n",
            "Number of bacterias in 33 hours: 1192092\n",
            "Number of bacterias in 34 hours: 596046\n",
            "Number of bacterias in 35 hours: 298023\n",
            "Number of bacterias in 36 hours: 149011\n",
            "Number of bacterias in 37 hours: 74505\n",
            "Number of bacterias in 38 hours: 37252\n",
            "Number of bacterias in 39 hours: 18626\n",
            "Number of bacterias in 40 hours: 9313\n",
            "Number of bacterias in 41 hours: 4656\n",
            "Number of bacterias in 42 hours: 2328\n",
            "Number of bacterias in 43 hours: 1164\n",
            "Number of bacterias in 44 hours: 582\n",
            "Number of bacterias in 45 hours: 291\n",
            "Number of bacterias in 46 hours: 145\n",
            "Number of bacterias in 47 hours: 72\n",
            "Number of bacterias in 48 hours: 36\n",
            "Number of bacterias in 49 hours: 18\n",
            "Number of bacterias in 50 hours: 9\n",
            "Number of bacterias in 51 hours: 4\n",
            "Number of bacterias in 52 hours: 2\n",
            "Number of bacterias in 53 hours: 1\n",
            "Number of bacterias in 54 hours: 0\n"
          ]
        }
      ]
    }
  ]
}
{
  "nbformat": 4,
  "nbformat_minor": 0,
  "metadata": {
    "colab": {
      "provenance": [],
      "authorship_tag": "ABX9TyN0LNLPLhQV7MBNgV82Qip9",
      "include_colab_link": true
    },
    "kernelspec": {
      "name": "python3",
      "display_name": "Python 3"
    },
    "language_info": {
      "name": "python"
    }
  },
  "cells": [
    {
      "cell_type": "markdown",
      "metadata": {
        "id": "view-in-github",
        "colab_type": "text"
      },
      "source": [
        "<a href=\"https://colab.research.google.com/github/anadeleame/biologyproblems/blob/main/Object_oriented_programming.ipynb\" target=\"_parent\"><img src=\"https://colab.research.google.com/assets/colab-badge.svg\" alt=\"Open In Colab\"/></a>"
      ]
    },
    {
      "cell_type": "markdown",
      "source": [
        "# Exercise 1\n",
        "\n",
        "Create a class named *Plant* that has as attributes \"family\", \"specie\" and \"dominant phase\", and as methods has \"gender\" and \"taxons\" (that includes family, gender and species)."
      ],
      "metadata": {
        "id": "Kib7qTgEFo3S"
      }
    },
    {
      "cell_type": "code",
      "execution_count": null,
      "metadata": {
        "colab": {
          "base_uri": "https://localhost:8080/"
        },
        "id": "TYbUuxVJByl2",
        "outputId": "4e7da56e-1483-4014-90e4-4cfba143b703"
      },
      "outputs": [
        {
          "output_type": "stream",
          "name": "stdout",
          "text": [
            "Cycas revoluta\n",
            "Cycadaceae\n",
            "sporophyte\n",
            "Cycas\n",
            "('Cycas revoluta', 'Cycas', 'Cycadaceae')\n"
          ]
        }
      ],
      "source": [
        "class Plant:\n",
        "  def __init__(self, specie, family, dominant_phase):\n",
        "    self.specie = specie\n",
        "    self.family = family\n",
        "    self.dominant_phase = dominant_phase\n",
        "\n",
        "  def get_gender(self):\n",
        "    limit = self.specie.find(' ')\n",
        "    gender = self.specie[:limit] #because gender is the first name of the input specie\n",
        "    return gender\n",
        "\n",
        "  def taxons(self):\n",
        "    limit = self.specie.find(' ')\n",
        "    gender2 = self.specie[:limit]\n",
        "    taxons = (self.specie, gender2, self.family)\n",
        "    return taxons\n",
        "\n",
        "plant = Plant('Cycas revoluta', 'Cycadaceae', 'sporophyte')\n",
        "\n",
        "print(plant.specie)\n",
        "print(plant.family)\n",
        "print(plant.dominant_phase)\n",
        "\n",
        "print(plant.get_gender())\n",
        "\n",
        "print(plant.taxons())"
      ]
    },
    {
      "cell_type": "markdown",
      "source": [
        "# Exercise 2\n",
        "\n",
        "Create a class named *DNA* that has as attributes \"sequence of DNA\", \"organism\" and \"type of strand\", and as methods generates the complementary strand and transcribes it."
      ],
      "metadata": {
        "id": "E95lZ0c_GZXx"
      }
    },
    {
      "cell_type": "code",
      "source": [
        "class DNA:\n",
        "  def __init__(self, sequence, organism, strand):\n",
        "    self.sequence = sequence\n",
        "    self.organism = organism\n",
        "    self.strand = strand\n",
        "\n",
        "  def complementary(self):\n",
        "    comp = ''\n",
        "    for base in self.sequence:\n",
        "      if 'A' in base:\n",
        "        comp += 'T'\n",
        "      if 'T' in base:\n",
        "        comp += 'A'\n",
        "      if 'G' in base:\n",
        "        comp += 'C'\n",
        "      if 'C' in base:\n",
        "        comp += 'G'\n",
        "    return comp\n",
        "\n",
        "  def transcription(self):\n",
        "    transc = ''\n",
        "    for base in self.sequence:\n",
        "      if 'A' in base:\n",
        "        transc += 'U'\n",
        "      if 'T' in base:\n",
        "        transc += 'A'\n",
        "      if 'G' in base:\n",
        "        transc += 'C'\n",
        "      if 'C' in base:\n",
        "        transc += 'G'\n",
        "    return transc\n",
        "\n",
        "a = DNA('GACTAGCGCCAAAAAAG', 'H. sapiens', 'double-strand')\n",
        "\n",
        "print(f'Your sequence is {a.sequence}, belongs to {a.organism} and it is {a.strand}.')\n",
        "print(f'The complementary sequence is {a.complementary()} and the transcribed strand is {a.transcription()}.')\n"
      ],
      "metadata": {
        "colab": {
          "base_uri": "https://localhost:8080/"
        },
        "id": "BCPbwA7p_Xnj",
        "outputId": "bcb28649-ed86-4b08-dcef-64563b438d6b"
      },
      "execution_count": null,
      "outputs": [
        {
          "output_type": "stream",
          "name": "stdout",
          "text": [
            "Your sequence is GACTAGCGCCAAAAAAG, belongs to H. sapiens and it is double-strand.\n",
            "The complementary sequence is CTGATCGCGGTTTTTTC and the transcribed strand is CUGAUCGCGGUUUUUUC.\n"
          ]
        }
      ]
    }
  ]
}
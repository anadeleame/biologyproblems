{
  "cells": [
    {
      "cell_type": "markdown",
      "metadata": {
        "id": "view-in-github",
        "colab_type": "text"
      },
      "source": [
        "<a href=\"https://colab.research.google.com/github/anadeleame/biologyproblems/blob/main/Math_Operations.ipynb\" target=\"_parent\"><img src=\"https://colab.research.google.com/assets/colab-badge.svg\" alt=\"Open In Colab\"/></a>"
      ]
    },
    {
      "cell_type": "markdown",
      "source": [
        "# **MATH OPERATIONS**"
      ],
      "metadata": {
        "id": "qEJWy0R4_0nk"
      }
    },
    {
      "cell_type": "markdown",
      "source": [
        "##EXERCISE 1:\n"
      ],
      "metadata": {
        "id": "yWyvnk4r9Z-Z"
      }
    },
    {
      "cell_type": "markdown",
      "source": [
        "A program that calculates the inhibition constant (Ki) of a particular enzyme and print its value on the screen.\n",
        "\n",
        "The equation is Ki = IC50 / 1 + ([S]/Km)"
      ],
      "metadata": {
        "id": "ZGKTOn_J9nfY"
      }
    },
    {
      "cell_type": "code",
      "source": [
        "IC50 = float(input(\"Type the inhibition constant's value: \"))\n",
        "S = float(input(\"Type the substrate concentration: \"))\n",
        "Km = float(input(\"Type the Michaelis-Menten constant's value: \"))\n",
        "\n",
        "ki = (IC50/(1+(S / Km)))\n",
        "\n",
        "print('The value of inhibition constant is',round(ki, 2))"
      ],
      "metadata": {
        "id": "_TVEFRvD82tM"
      },
      "execution_count": null,
      "outputs": []
    },
    {
      "cell_type": "markdown",
      "source": [
        "##EXERCISE 2:"
      ],
      "metadata": {
        "id": "HeGYbvfm9zSo"
      }
    },
    {
      "cell_type": "markdown",
      "source": [
        "Find the estimated gene distance (in morganids) by gene recombination.\n",
        "\n",
        "**Gene recombination** = recombinant genotype 1 + recombinant genotype 2 / recombinant genotype 1 + recombinant genotype 2 + non-recombinant genotype 1 + non-recombinant genotype 2"
      ],
      "metadata": {
        "id": "EjEtzx1a924G"
      }
    },
    {
      "cell_type": "code",
      "source": [
        "GenRec1 = int(input(\"Type the recombinant genotype 1: \"))\n",
        "GenRec2 = int(input(\"Type the recombinant genotype 2: \"))\n",
        "GenNRec1 = int(input(\"Type the non-recombinant genotype 1: \"))\n",
        "GenNRec2 = int(input(\"Type the non-recombinant genotype 2: \"))\n",
        "\n",
        "Rate = ((GenRec1 + GenRec2) / (GenRec1 + GenRec2 + GenNRec1 + GenNRec2)) * 100\n",
        "print('The rate of gene recombination is:', round(Rate,2))"
      ],
      "metadata": {
        "id": "GKtZaTmR9_zw"
      },
      "execution_count": null,
      "outputs": []
    },
    {
      "cell_type": "markdown",
      "source": [
        "##EXERCISE 3:"
      ],
      "metadata": {
        "id": "msW9dxYL-vSN"
      }
    },
    {
      "cell_type": "markdown",
      "source": [
        "Exercise about insect collect: ask how many days the collect lasted and how many specimens were collected. It should return the average specimens collected per day."
      ],
      "metadata": {
        "id": "8kzO9N_N-xcE"
      }
    },
    {
      "cell_type": "code",
      "source": [
        "days = int(input(\"How many days did the collect last? \"))\n",
        "specimens = int(input(\"How many specimens were collected? \"))\n",
        "\n",
        "specimens_day = specimens / days\n",
        "\n",
        "print('The number of collect per day was', round(specimens_day,2))"
      ],
      "metadata": {
        "id": "pTh4K0Gg-37W"
      },
      "execution_count": null,
      "outputs": []
    }
  ],
  "metadata": {
    "colab": {
      "provenance": [],
      "include_colab_link": true
    },
    "kernelspec": {
      "display_name": "Python 3",
      "name": "python3"
    }
  },
  "nbformat": 4,
  "nbformat_minor": 0
}
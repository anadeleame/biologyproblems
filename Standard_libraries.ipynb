{
  "nbformat": 4,
  "nbformat_minor": 0,
  "metadata": {
    "colab": {
      "provenance": [],
      "include_colab_link": true
    },
    "kernelspec": {
      "name": "python3",
      "display_name": "Python 3"
    }
  },
  "cells": [
    {
      "cell_type": "markdown",
      "metadata": {
        "id": "view-in-github",
        "colab_type": "text"
      },
      "source": [
        "<a href=\"https://colab.research.google.com/github/anadeleame/biologyproblems/blob/main/Standard_libraries.ipynb\" target=\"_parent\"><img src=\"https://colab.research.google.com/assets/colab-badge.svg\" alt=\"Open In Colab\"/></a>"
      ]
    },
    {
      "cell_type": "markdown",
      "metadata": {
        "id": "MwcHdTIT8XLe"
      },
      "source": [
        "# Standard libraries"
      ]
    },
    {
      "cell_type": "markdown",
      "metadata": {
        "id": "WHdSo8Zh8dj3"
      },
      "source": [
        "## Math\n",
        "\n",
        "https://docs.python.org/3/library/math.html"
      ]
    },
    {
      "cell_type": "code",
      "metadata": {
        "id": "u6cAQHQo-ksC"
      },
      "source": [
        "import math #This module provides access to the mathematical functions defined by the C standard and can not be used with complex numbers."
      ],
      "execution_count": null,
      "outputs": []
    },
    {
      "cell_type": "code",
      "metadata": {
        "id": "O2Dt-oX2-vAB",
        "colab": {
          "base_uri": "https://localhost:8080/"
        },
        "outputId": "b74652f3-81f8-4230-dc2f-a21513707950"
      },
      "source": [
        "print(math.sqrt(9))\n",
        "print(math.sin(45))\n",
        "print(math.cos(45))\n",
        "print(math.log(1000, 10))\n",
        "print(math.log(32, 2))\n",
        "print(math.log(1000)) #use Euler's number\n",
        "print(math.e) #Euler's number\n",
        "print(math.pi)"
      ],
      "execution_count": null,
      "outputs": [
        {
          "output_type": "stream",
          "name": "stdout",
          "text": [
            "3.0\n",
            "0.8509035245341184\n",
            "0.5253219888177297\n",
            "2.9999999999999996\n",
            "5.0\n",
            "6.907755278982137\n",
            "2.718281828459045\n",
            "3.141592653589793\n"
          ]
        }
      ]
    },
    {
      "cell_type": "markdown",
      "metadata": {
        "id": "roxeqfCm86Xv"
      },
      "source": [
        "## Datetime\n",
        "\n",
        "https://docs.python.org/3/library/datetime.html"
      ]
    },
    {
      "cell_type": "code",
      "metadata": {
        "id": "xHrk2_CW_bdq"
      },
      "source": [
        "import datetime #The datetime module supplies classes for manipulating dates and times."
      ],
      "execution_count": null,
      "outputs": []
    },
    {
      "cell_type": "code",
      "metadata": {
        "id": "ObWdUa5w_gGd",
        "colab": {
          "base_uri": "https://localhost:8080/",
          "height": 319
        },
        "outputId": "2345d3da-ced1-47ee-c242-306b2c23bd45"
      },
      "source": [
        "dir(datetime) #options that can be used"
      ],
      "execution_count": null,
      "outputs": [
        {
          "output_type": "execute_result",
          "data": {
            "text/plain": [
              "['MAXYEAR',\n",
              " 'MINYEAR',\n",
              " '__builtins__',\n",
              " '__cached__',\n",
              " '__doc__',\n",
              " '__file__',\n",
              " '__loader__',\n",
              " '__name__',\n",
              " '__package__',\n",
              " '__spec__',\n",
              " 'date',\n",
              " 'datetime',\n",
              " 'datetime_CAPI',\n",
              " 'sys',\n",
              " 'time',\n",
              " 'timedelta',\n",
              " 'timezone',\n",
              " 'tzinfo']"
            ]
          },
          "metadata": {
            "tags": []
          },
          "execution_count": 11
        }
      ]
    },
    {
      "cell_type": "code",
      "metadata": {
        "id": "xONOUbn0_pHp",
        "colab": {
          "base_uri": "https://localhost:8080/"
        },
        "outputId": "f809d68c-68b9-4429-a1ec-11cb03745448"
      },
      "source": [
        "print(datetime.date.today())\n",
        "print(datetime.datetime.now()) #it is being executed in Google Colab's services, so it is not necessarily the time of our machine.\n"
      ],
      "execution_count": null,
      "outputs": [
        {
          "output_type": "stream",
          "name": "stdout",
          "text": [
            "2023-09-20\n",
            "2023-09-20 17:36:52.298318\n"
          ]
        }
      ]
    },
    {
      "cell_type": "code",
      "source": [
        "date = datetime.date(2023, 9, 20)\n",
        "\n",
        "print(date.day)\n",
        "print(date.month)\n",
        "print(date.year)\n",
        "\n",
        "hours = datetime.datetime(2023, 9, 20, 14, 28, 52)\n",
        "\n",
        "print(hours.hour)\n",
        "print(hours.minute)\n",
        "print(hours.second)"
      ],
      "metadata": {
        "colab": {
          "base_uri": "https://localhost:8080/"
        },
        "id": "lXrxVA-loV8M",
        "outputId": "1fbf2589-bcc7-44f8-ea17-b1eaeff6e224"
      },
      "execution_count": null,
      "outputs": [
        {
          "output_type": "stream",
          "name": "stdout",
          "text": [
            "20\n",
            "9\n",
            "2023\n",
            "14\n",
            "28\n",
            "52\n"
          ]
        }
      ]
    },
    {
      "cell_type": "markdown",
      "metadata": {
        "id": "ggltYst89xbS"
      },
      "source": [
        "## Random\n",
        "\n",
        "https://docs.python.org/3/library/random.html"
      ]
    },
    {
      "cell_type": "code",
      "metadata": {
        "id": "CVJYJFKSA80v"
      },
      "source": [
        "import random #This module implements pseudo-random number generators for various distributions. Widely used in statistics. It can be used in strings, a range, a list, a tuple or any other kind of sequence as well."
      ],
      "execution_count": null,
      "outputs": []
    },
    {
      "cell_type": "code",
      "metadata": {
        "id": "pHCyuns9A_1L",
        "colab": {
          "base_uri": "https://localhost:8080/"
        },
        "outputId": "379c3519-5e84-4e97-e556-d83b86357c9e"
      },
      "source": [
        "print(random.random()) #generates numbers between 0 and 1. Everytime you execute it, it returns a new value.\n",
        "print(random.randint(1,10)) #generates numbers in a specific range.\n",
        "print(random.randrange(0, 10, 2)) #generates numbers in a specific range with a specific step.\n",
        "\n",
        "x = ['K', 'd', 13, '34-j', 'x']\n",
        "print(random.choice(x)) #select a random element in a list."
      ],
      "execution_count": null,
      "outputs": [
        {
          "output_type": "stream",
          "name": "stdout",
          "text": [
            "0.19182390758981305\n",
            "8\n",
            "6\n",
            "d\n"
          ]
        }
      ]
    },
    {
      "cell_type": "markdown",
      "metadata": {
        "id": "mdD3O8Kc-Tkq"
      },
      "source": [
        "## Time\n",
        "\n",
        "https://docs.python.org/3/library/time.html"
      ]
    },
    {
      "cell_type": "code",
      "metadata": {
        "id": "LPQ-b41pCBm_"
      },
      "source": [
        "import time as tm #This module provides various time-related functions. It can be used when you want to know how long your code took to be executed."
      ],
      "execution_count": null,
      "outputs": []
    },
    {
      "cell_type": "code",
      "metadata": {
        "id": "8lUWM3b2CIEW",
        "colab": {
          "base_uri": "https://localhost:8080/"
        },
        "outputId": "a9e1ad87-14f5-4e36-8afd-f383c9839e74"
      },
      "source": [
        "print(tm.time()) #return time in seconds."
      ],
      "execution_count": null,
      "outputs": [
        {
          "output_type": "stream",
          "name": "stdout",
          "text": [
            "1695232058.0106406\n"
          ]
        }
      ]
    },
    {
      "cell_type": "code",
      "source": [
        "before = tm.time() #seconds before executing the code.\n",
        "lista = []\n",
        "for i in range(0,10000):\n",
        "  lista.append(i)\n",
        "after = tm.time() #seconds after executing the code.\n",
        "\n",
        "time_code = after - before\n",
        "print(f'Time: {time_code} seconds.')"
      ],
      "metadata": {
        "id": "jw7jRps1sMNG"
      },
      "execution_count": null,
      "outputs": []
    },
    {
      "cell_type": "code",
      "metadata": {
        "id": "1i2UXiRxCv4f",
        "colab": {
          "base_uri": "https://localhost:8080/"
        },
        "outputId": "f4ea0aec-4f15-4552-f0ed-35ac34d2ec8e"
      },
      "source": [
        "print('Goodbye...')\n",
        "tm.sleep(2) #when you want to stop the execution. Here, it will be stopped for 2 seconds.\n",
        "print('...') #it will appear after 2 seconds.\n",
        "tm.sleep(2)\n",
        "print('See you soon!')"
      ],
      "execution_count": null,
      "outputs": [
        {
          "output_type": "stream",
          "name": "stdout",
          "text": [
            "Goodbye...\n",
            "...\n",
            "See you soon!\n"
          ]
        }
      ]
    },
    {
      "cell_type": "markdown",
      "source": [
        "## Exercise 1\n",
        "\n",
        "####Make a function that generates a random sequence of DNA, receiving size as a parameter and using it to generate a sequence with the specified length."
      ],
      "metadata": {
        "id": "1w0NPYGzuHKy"
      }
    },
    {
      "cell_type": "code",
      "source": [
        "def random_sequence(size):\n",
        "  bases = ['A', 'C', 'T', 'G']\n",
        "  generated_sequence = ''\n",
        "  n = 0\n",
        "\n",
        "  while n != size:\n",
        "    generated_sequence += random.choice(bases)\n",
        "    n += 1\n",
        "  return generated_sequence\n",
        "\n",
        "your_size = int(input('Type the size of the sequence you want: '))\n",
        "random_sequence(your_size)"
      ],
      "metadata": {
        "colab": {
          "base_uri": "https://localhost:8080/",
          "height": 53
        },
        "id": "OCR5BUONuLe6",
        "outputId": "f25ac3ec-31a5-4cdf-d2b9-5589f1a8dcb8"
      },
      "execution_count": null,
      "outputs": [
        {
          "name": "stdout",
          "output_type": "stream",
          "text": [
            "Type the size of the sequence you want: 20\n"
          ]
        },
        {
          "output_type": "execute_result",
          "data": {
            "text/plain": [
              "'CACTGCTGTGCGAAGTTGGA'"
            ],
            "application/vnd.google.colaboratory.intrinsic+json": {
              "type": "string"
            }
          },
          "metadata": {},
          "execution_count": 104
        }
      ]
    },
    {
      "cell_type": "markdown",
      "source": [
        "## Exercise 2\n",
        "\n",
        "####Make a function that calculates the population growth rate formula **(Nt = N0e^RT)** receiving 3 parameters:\n",
        "\n",
        "####**N0 - final number; r = growth rate; t = time; Nt = final population number.**\n",
        "#####OBS: e = Euler's number.\n",
        "\n",
        "####This function should return the Nt value."
      ],
      "metadata": {
        "id": "o5GOGI5xvvjI"
      }
    },
    {
      "cell_type": "code",
      "source": [
        "def population_growth(N0, r, t):\n",
        "  exponent = r * t\n",
        "  Nt_value = int(N0 * math.pow(math.e, exponent)) #I could also put N0 * (math.e ** (r*t))\n",
        "  return Nt_value\n",
        "\n",
        "population_growth(1000,1.2,3)"
      ],
      "metadata": {
        "colab": {
          "base_uri": "https://localhost:8080/"
        },
        "id": "rt1C8zNNwIjm",
        "outputId": "9a889615-4217-4643-bec5-5656e051c1ec"
      },
      "execution_count": null,
      "outputs": [
        {
          "output_type": "execute_result",
          "data": {
            "text/plain": [
              "36598"
            ]
          },
          "metadata": {},
          "execution_count": 114
        }
      ]
    },
    {
      "cell_type": "markdown",
      "source": [
        "## Exercise 3\n",
        "\n",
        "####Make a function that evaluates how long the code took to generate the sequence from exercise 1 with parameters 1000, 10.000. 100.000 and 1.000.000. At the end, it should print on the screen how many seconds it took to the execution for each sequence's lenght."
      ],
      "metadata": {
        "id": "rKuXRSYXwRm2"
      }
    },
    {
      "cell_type": "code",
      "source": [
        "def how_long(size):\n",
        "  bases = ('A', 'C', 'T', 'G')\n",
        "  generated_sequence = ''\n",
        "  n = 0\n",
        "  before = tm.time()\n",
        "  while n != size:\n",
        "    generated_sequence += random.choice(bases)\n",
        "    n += 1\n",
        "  after = tm.time()\n",
        "  total = after - before\n",
        "  return print(f'It took {total} seconds to generate this sequence.')\n",
        "\n",
        "how_long(1000)\n",
        "how_long(10000)\n",
        "how_long(100000)\n",
        "how_long(1000000)"
      ],
      "metadata": {
        "colab": {
          "base_uri": "https://localhost:8080/"
        },
        "id": "gWJDL77lw2Z2",
        "outputId": "395075d8-acb2-4e59-f5c2-818535c0a5f9"
      },
      "execution_count": null,
      "outputs": [
        {
          "output_type": "stream",
          "name": "stdout",
          "text": [
            "It took 0.0007469654083251953 seconds to generate this sequence.\n",
            "It took 0.007363080978393555 seconds to generate this sequence.\n",
            "It took 0.046796321868896484 seconds to generate this sequence.\n",
            "It took 0.46978020668029785 seconds to generate this sequence.\n"
          ]
        }
      ]
    }
  ]
}
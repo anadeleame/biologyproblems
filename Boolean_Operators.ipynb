{
  "nbformat": 4,
  "nbformat_minor": 0,
  "metadata": {
    "colab": {
      "provenance": [],
      "authorship_tag": "ABX9TyOujamZRPaUlX8ZSOnh+hed",
      "include_colab_link": true
    },
    "kernelspec": {
      "name": "python3",
      "display_name": "Python 3"
    },
    "language_info": {
      "name": "python"
    }
  },
  "cells": [
    {
      "cell_type": "markdown",
      "metadata": {
        "id": "view-in-github",
        "colab_type": "text"
      },
      "source": [
        "<a href=\"https://colab.research.google.com/github/anadeleame/biologyproblems/blob/main/Boolean_Operators.ipynb\" target=\"_parent\"><img src=\"https://colab.research.google.com/assets/colab-badge.svg\" alt=\"Open In Colab\"/></a>"
      ]
    },
    {
      "cell_type": "markdown",
      "source": [
        "# **BOOLEAN OPERATORS**"
      ],
      "metadata": {
        "id": "D8l5kWGUEhTY"
      }
    },
    {
      "cell_type": "markdown",
      "source": [
        "##Exercise 1"
      ],
      "metadata": {
        "id": "unQA9VmlEk-n"
      }
    },
    {
      "cell_type": "markdown",
      "source": [
        "An input that receives the number of species and individuals collected in sections A and B, and generates the average of them. Make comparisons:\n",
        "1. Is the number of individuals collected in section A greater than or equal to those collected in section B?\n",
        "2. Is the number of individuals collected in section A different from those collected in section B?\n",
        "3. Is the number of individuals collected in section A greater than that collected in section B OR if the average number of individuals per species in section A is greater than the average number of individuals in section B?\n",
        "4. Is the number of individuals collected in section A different from those collected in section B? The average number of individuals per species in section A is different from the average number of individuals collected in section B?"
      ],
      "metadata": {
        "id": "qKBummuAEp7P"
      }
    },
    {
      "cell_type": "code",
      "source": [
        "species_A = int(input(\"Number of species collected in the section A: \"))\n",
        "individuals_A = int(input(\"Number of individuals collected in the section A: \"))\n",
        "species_B = int(input(\"Number of species collected in the section B: \"))\n",
        "individuals_B = int(input(\"Number of individuals collected in the section B: \"))\n",
        "\n",
        "average_A = round(individuals_A/species_A, 1)\n",
        "average_B = round(individuals_B/species_B,1)\n",
        "\n",
        "print(average_A)\n",
        "print(average_B)\n"
      ],
      "metadata": {
        "id": "xOLdEAi0F1VC"
      },
      "execution_count": null,
      "outputs": []
    },
    {
      "cell_type": "code",
      "source": [
        "#1\n",
        "\n",
        "individuals_A >= individuals_B"
      ],
      "metadata": {
        "colab": {
          "base_uri": "https://localhost:8080/"
        },
        "id": "9cRNaoRuGuKx",
        "outputId": "29d4151b-de01-48b2-d723-0e0a7bc78435"
      },
      "execution_count": 2,
      "outputs": [
        {
          "output_type": "execute_result",
          "data": {
            "text/plain": [
              "False"
            ]
          },
          "metadata": {},
          "execution_count": 2
        }
      ]
    },
    {
      "cell_type": "code",
      "source": [
        "#2\n",
        "\n",
        "individuals_A != individuals_B"
      ],
      "metadata": {
        "colab": {
          "base_uri": "https://localhost:8080/"
        },
        "id": "oF49_6gHG_wY",
        "outputId": "dd4f15ca-5780-4bbd-a7f4-9b8761b7fab3"
      },
      "execution_count": 3,
      "outputs": [
        {
          "output_type": "execute_result",
          "data": {
            "text/plain": [
              "True"
            ]
          },
          "metadata": {},
          "execution_count": 3
        }
      ]
    },
    {
      "cell_type": "code",
      "source": [
        "#3\n",
        "\n",
        "individuals_A > individuals_B or average_A > average_B"
      ],
      "metadata": {
        "colab": {
          "base_uri": "https://localhost:8080/"
        },
        "id": "0QmXZgQVHEFx",
        "outputId": "72e068fc-202f-4136-ee40-9dc025965377"
      },
      "execution_count": 4,
      "outputs": [
        {
          "output_type": "execute_result",
          "data": {
            "text/plain": [
              "False"
            ]
          },
          "metadata": {},
          "execution_count": 4
        }
      ]
    },
    {
      "cell_type": "code",
      "source": [
        "#4\n",
        "\n",
        "individuals_A != individuals_B and average_A != average_B"
      ],
      "metadata": {
        "colab": {
          "base_uri": "https://localhost:8080/"
        },
        "id": "02OP5slEHSF5",
        "outputId": "f82da32d-f67f-411d-efe1-20cefb041e05"
      },
      "execution_count": 5,
      "outputs": [
        {
          "output_type": "execute_result",
          "data": {
            "text/plain": [
              "True"
            ]
          },
          "metadata": {},
          "execution_count": 5
        }
      ]
    }
  ]
}
{
  "nbformat": 4,
  "nbformat_minor": 0,
  "metadata": {
    "colab": {
      "provenance": [],
      "include_colab_link": true
    },
    "kernelspec": {
      "name": "python3",
      "display_name": "Python 3"
    }
  },
  "cells": [
    {
      "cell_type": "markdown",
      "metadata": {
        "id": "view-in-github",
        "colab_type": "text"
      },
      "source": [
        "<a href=\"https://colab.research.google.com/github/anadeleame/biologyproblems/blob/main/Manipulating_strings_part_1.ipynb\" target=\"_parent\"><img src=\"https://colab.research.google.com/assets/colab-badge.svg\" alt=\"Open In Colab\"/></a>"
      ]
    },
    {
      "cell_type": "markdown",
      "metadata": {
        "id": "GGwT9dfxJPmb"
      },
      "source": [
        "#Manipulating strings - part 1"
      ]
    },
    {
      "cell_type": "markdown",
      "source": [
        "**1) SPECIES NAME ABBREVIATION:** receive a name, capitalize the first letter and abbreviate it (e.g.: mus musculus - M. musculus)."
      ],
      "metadata": {
        "id": "C7LG11QWCPUs"
      }
    },
    {
      "cell_type": "code",
      "source": [
        "name = (input('Type the name: ')).capitalize()\n",
        "start = name.find(name[1])\n",
        "end = name.find(' ')\n",
        "replaced = name.replace((name[start:end]), '.')\n",
        "print(replaced)\n"
      ],
      "metadata": {
        "colab": {
          "base_uri": "https://localhost:8080/"
        },
        "id": "R06Y4tHp6Ea-",
        "outputId": "7b0e1e91-9ec4-4861-a777-de6c28efe366"
      },
      "execution_count": null,
      "outputs": [
        {
          "output_type": "stream",
          "name": "stdout",
          "text": [
            "Type the name: candida albicans\n",
            "C. albicans\n"
          ]
        }
      ]
    },
    {
      "cell_type": "markdown",
      "source": [
        "**2) ANALYZING PROTEIN SEQUENCES:** say how many % the mutant protein is larger than the normal one, the amino acid length of each protein and the % of serine (S) in both sequences."
      ],
      "metadata": {
        "id": "aj871DoMDLN7"
      }
    },
    {
      "cell_type": "code",
      "source": [
        "normalprotein = 'MGTACHMCGYGCYGYGSHSCIOOENNFHEF'\n",
        "mutantprotein = 'MCCFOTYOOANLGTACHMCGYGCYGYGSHSCIOOENNFHEF'\n",
        "\n",
        "greater = round((len(mutantprotein)/len(normalprotein) - 1) * 100)\n",
        "lennormal = len(normalprotein)\n",
        "lenmutant = len(mutantprotein)\n",
        "serinenormal = round(normalprotein.count('S')/lennormal * 100)\n",
        "serinemutant = round(mutantprotein.count('S')/lenmutant * 100)\n",
        "\n",
        "print(f'The mutant protein is {greater}% greater than the normal protein.')\n",
        "print(f'The length of aminoacids of the normal protein and the mutant protein are {lennormal} and {lenmutant}, respectively.')\n",
        "print(f'The percentage of serine in the normal protein and in the mutant protein are {serinenormal}% and {serinemutant}%, respectively.')"
      ],
      "metadata": {
        "id": "rwAcfCLNDc6N"
      },
      "execution_count": null,
      "outputs": []
    },
    {
      "cell_type": "markdown",
      "source": [
        "**3) EXTRACTING ORF FROM RNA SEQUENCE:** The sequence below represents a pre-mRNA, that is, an unprocessed RNA, in which the introns were not removed. This sequence has an exon that starts with AUG and ends with a UAG stop codon. Determine where the start and stop codons start and return the exon from that sequence."
      ],
      "metadata": {
        "id": "r70Nnz6hIe4D"
      }
    },
    {
      "cell_type": "code",
      "source": [
        "seqRNA='AAAUUUAUGUUCCCUUUGGGUGGGCCCGGGAAAUAGUUCUUGUUUAAAUUC'\n",
        "start = seqRNA.find('AUG')\n",
        "end = seqRNA.find('UAG')\n",
        "\n",
        "exon = seqRNA[start:end]\n",
        "\n",
        "print(f'The exon {exon} starts at the position {start} and ends at the position {end} of the RNA sequence.')\n"
      ],
      "metadata": {
        "id": "bwKdskgyItab"
      },
      "execution_count": null,
      "outputs": []
    }
  ]
}
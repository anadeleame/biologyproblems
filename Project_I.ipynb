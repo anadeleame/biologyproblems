{
  "nbformat": 4,
  "nbformat_minor": 0,
  "metadata": {
    "colab": {
      "provenance": [],
      "authorship_tag": "ABX9TyNJIXYCKeZfY6d8gAL17Ahh",
      "include_colab_link": true
    },
    "kernelspec": {
      "name": "python3",
      "display_name": "Python 3"
    },
    "language_info": {
      "name": "python"
    }
  },
  "cells": [
    {
      "cell_type": "markdown",
      "metadata": {
        "id": "view-in-github",
        "colab_type": "text"
      },
      "source": [
        "<a href=\"https://colab.research.google.com/github/anadeleame/biologyproblems/blob/main/Project_I.ipynb\" target=\"_parent\"><img src=\"https://colab.research.google.com/assets/colab-badge.svg\" alt=\"Open In Colab\"/></a>"
      ]
    },
    {
      "cell_type": "markdown",
      "source": [
        "###Here, we have a test containing 5 questions about biology. In this test, you should ask the student to answer each question with A, B, C, D or E. If he gives an invalid answer (e.g. 'F'), the program must warn it on the screen and asks for a valid answer.\n",
        "\n",
        "###For each question with a valid answer, it will be correct or wrong. Make a compound variant (tuple or list) with these correct and wrong answers. At the same time, when the student gets a correct answer, the variable 'grade' will be implemented with +1 point; if it's a wrong answer, the variable won't change.\n",
        "\n",
        "###At the end of the program, one should print the student's grade and the score of each question on the screen (e.g. 1st question: correct; 2nd question: wrong... etc).\n",
        "\n",
        "**OBS: correct answers -> E, D, E, D, D**"
      ],
      "metadata": {
        "id": "KaXm5Zdqenn9"
      }
    },
    {
      "cell_type": "code",
      "source": [
        "with open('test.txt', 'w') as writing_test:\n",
        "  writing_test.write('1- In a biology class, a student was observing a cell in the microscope. In this cell, it was possible to see a region with more color than usual (structure identified as the nucleus by the teacher). With this information, we can conclude that this cell is: \\n a) bacteria prokaryotic. \\n b) animal prokaryotic. \\n c) animal eukaryotic. \\n d) plant eukaryotic. \\n e) of a eukaryiotic individual.')\n",
        "  writing_test.write('\\n \\n 2- Eukaryiotic cells show a lot of particularities about structure and their processes. These cells are capable of, for example, capture substances by membrane invagination, bringing them to the inside. This process is called ____________ and it is not present in prokaryotics due to their absence of  ____________. Select the alternative that contains the terms that complete the spaces above. \\n a) exocytosis and cytoplasm. \\n b) exocytosis and cytoskeleton. \\n c) endocytosis and nucleus. \\n d) endocytosis and cytoskeleton. \\n e) plasmocytosis and cytoplasm.')\n",
        "  writing_test.write('\\n \\n 3- Analysing the alternatives below, select which one indicates where the process of glycolysis happens. \\n a) in the mitochondria. \\n b) in the chloroplast. \\n c) in the ribosome. \\n d) in the endoplasmic reticulum. \\n e) in the cytosol.')\n",
        "  writing_test.write('\\n \\n 4- Some organisms feed themselves with anything; however, others have a restricted diet. Animals with no restriction can live better in constantly changing environments. Select the alternative that indicates the term we use to define species that have a broad ecological niche. \\n a) specialist species. \\n b) consumer species. \\n c) broad species. \\n d) generalist species. \\n e) competitive species.')\n",
        "  writing_test.write('\\n \\n 5- To store atmosferics carbon for a long period, it is advisable: \\n a) control volcanic activities. \\n b) transform forests into agricultural areas. \\n c) install vegetable gardens in houses. \\n d) prevent deforestation and estimulate reforestation. \\n e) decrease biodiversity, facilitating calculations about respiratory activities. \\n')\n",
        "\n",
        "with open ('test.txt', 'r') as test:\n",
        "  for line in test:\n",
        "    print(line)\n",
        "\n",
        "possible_answers = ('A', 'B', 'C', 'D', 'E')\n",
        "correct_answers = ('E','D','E','D','D')\n",
        "grade = 0\n",
        "question = 0\n",
        "number_question = 1\n",
        "score = []\n",
        "\n",
        "def questions():\n",
        "  global possible_answers, correct_answers, grade, question, number_question\n",
        "  answer = str(input(f'Type your answer for question {number_question}: ')).upper()\n",
        "  if answer in possible_answers:\n",
        "    if answer == correct_answers[question]:\n",
        "      grade += 1\n",
        "      score.append(f'Question {number_question} is correct.')\n",
        "    else:\n",
        "      grade = grade\n",
        "      score.append(f'Question {number_question} is wrong.')\n",
        "    question += 1\n",
        "    number_question += 1\n",
        "  else:\n",
        "    print(f'Your answer is invalid. Please type an answer between letters A and E:')\n",
        "\n",
        "while question != 5: #because there are 5 questions\n",
        "  questions()\n",
        "\n",
        "#OBS: I putted 'global' command inside the function because when I was trying to define my variants inside it, the increment wasn't happening; when I was trying to put it outside, it was appearing the error 'UnboundLocalError: Local variable referenced before assignment'.\n",
        "      #This command makes the variants of outside exist inside the function too and allows us to increment them.\n",
        "\n",
        "print(f'Your final grade is {grade}/5. The partial scores were:')\n",
        "for i in score:\n",
        "  print(i)"
      ],
      "metadata": {
        "colab": {
          "base_uri": "https://localhost:8080/"
        },
        "id": "kOtJD9cigXqG",
        "outputId": "4642d494-d166-4375-a23c-5734771902b5"
      },
      "execution_count": 59,
      "outputs": [
        {
          "output_type": "stream",
          "name": "stdout",
          "text": [
            "1- In a biology class, a student was observing a cell in the microscope. In this cell, it was possible to see a region with more color than usual (structure identified as the nucleus by the teacher). With this information, we can conclude that this cell is: \n",
            "\n",
            " a) bacteria prokaryotic. \n",
            "\n",
            " b) animal prokaryotic. \n",
            "\n",
            " c) animal eukaryotic. \n",
            "\n",
            " d) plant eukaryotic. \n",
            "\n",
            " e) of a eukaryiotic individual.\n",
            "\n",
            " \n",
            "\n",
            " 2- Eukaryiotic cells show a lot of particularities about structure and their processes. These cells are capable of, for example, capture substances by membrane invagination, bringing them to the inside. This process is called ____________ and it is not present in prokaryotics due to their absence of  ____________. Select the alternative that contains the terms that complete the spaces above. \n",
            "\n",
            " a) exocytosis and cytoplasm. \n",
            "\n",
            " b) exocytosis and cytoskeleton. \n",
            "\n",
            " c) endocytosis and nucleus. \n",
            "\n",
            " d) endocytosis and cytoskeleton. \n",
            "\n",
            " e) plasmocytosis and cytoplasm.\n",
            "\n",
            " \n",
            "\n",
            " 3- Analysing the alternatives below, select which one indicates where the process of glycolysis happens. \n",
            "\n",
            " a) in the mitochondria. \n",
            "\n",
            " b) in the chloroplast. \n",
            "\n",
            " c) in the ribosome. \n",
            "\n",
            " d) in the endoplasmic reticulum. \n",
            "\n",
            " e) in the cytosol.\n",
            "\n",
            " \n",
            "\n",
            " 4- Some organisms feed themselves with anything; however, others have a restricted diet. Animals with no restriction can live better in constantly changing environments. Select the alternative that indicates the term we use to define species that have a broad ecological niche. \n",
            "\n",
            " a) specialist species. \n",
            "\n",
            " b) consumer species. \n",
            "\n",
            " c) broad species. \n",
            "\n",
            " d) generalist species. \n",
            "\n",
            " e) competitive species.\n",
            "\n",
            " \n",
            "\n",
            " 5- To store atmosferics carbon for a long period, it is advisable: \n",
            "\n",
            " a) control volcanic activities. \n",
            "\n",
            " b) transform forests into agricultural areas. \n",
            "\n",
            " c) install vegetable gardens in houses. \n",
            "\n",
            " d) prevent deforestation and estimulate reforestation. \n",
            "\n",
            " e) decrease biodiversity, facilitating calculations about respiratory activities. \n",
            "\n",
            "Type your answer for question 1: A\n",
            "Type your answer for question 2: G\n",
            "Your answer is invalid. Please type an answer between letters A and E:\n",
            "Type your answer for question 2: D\n",
            "Type your answer for question 3: E\n",
            "Type your answer for question 4: E\n",
            "Type your answer for question 5: D\n",
            "Your final grade is 3/5. The partial scores were:\n",
            "Question 1 is wrong.\n",
            "Question 2 is correct.\n",
            "Question 3 is correct.\n",
            "Question 4 is wrong.\n",
            "Question 5 is correct.\n"
          ]
        }
      ]
    }
  ]
}
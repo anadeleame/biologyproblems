{
  "nbformat": 4,
  "nbformat_minor": 0,
  "metadata": {
    "colab": {
      "provenance": [],
      "include_colab_link": true
    },
    "kernelspec": {
      "name": "python3",
      "display_name": "Python 3"
    }
  },
  "cells": [
    {
      "cell_type": "markdown",
      "metadata": {
        "id": "view-in-github",
        "colab_type": "text"
      },
      "source": [
        "<a href=\"https://colab.research.google.com/github/anadeleame/biologyproblems/blob/main/Custom_modules.ipynb\" target=\"_parent\"><img src=\"https://colab.research.google.com/assets/colab-badge.svg\" alt=\"Open In Colab\"/></a>"
      ]
    },
    {
      "cell_type": "markdown",
      "metadata": {
        "id": "SWL14HWv5QIB"
      },
      "source": [
        "# **Custom Modules**\n",
        "\n",
        "##### In the last chapter, we saw the possibility of import libraries in Python. Another possibility is to create your own libraries with specific functions that you want through a python file. You can import it to your Google Colab and facilitate its use.\n",
        "\n",
        "#####This can be made by Spyder (Anaconda), loading it in the folder icon -> upload -> select the file **.py**."
      ]
    },
    {
      "cell_type": "markdown",
      "source": [
        "## Exercise 1\n",
        "\n",
        "##### Create and import to Google Colab a module with functions to manipulate DNA sequences. This module must have 3 functions that:\n",
        "##### 1 - calculate GC content in a given sequence of DNA;\n",
        "##### 2 - generate a random sequence of DNA based on a input size;\n",
        "##### 3 - transcribe a sequence of DNA to RNA."
      ],
      "metadata": {
        "id": "OA_c-0527J7n"
      }
    },
    {
      "cell_type": "code",
      "source": [
        "import functions as ft\n",
        "\n",
        "ft.gc_content('ATTACTAGCGCC')\n",
        "\n",
        "ft.seqrandom(24)\n",
        "\n",
        "ft.transcription('TGTGTGCATG')"
      ],
      "metadata": {
        "colab": {
          "base_uri": "https://localhost:8080/"
        },
        "id": "sWvMswBv7MwI",
        "outputId": "fd130b0f-8440-42b8-8017-2dc80f32f482"
      },
      "execution_count": 1,
      "outputs": [
        {
          "output_type": "stream",
          "name": "stdout",
          "text": [
            "Your sequence has 50.0% of GC content.\n",
            "A possible sequence with the size you chose: TTTTTTCCAAATCATCCGGGCCAC\n",
            "Your sequence of DNA transcribed to RNA is ACACACGUAC\n"
          ]
        }
      ]
    },
    {
      "cell_type": "markdown",
      "source": [
        "## Exercise 2\n",
        "\n",
        "##### Create and import to Google Colab a module with 3 functions about formulas of population ecology:\n",
        "##### 1- Exponential growth: ***Nt = N0 (1 + r)^t***\n",
        "##### 2- Exponential growth without growth rate: ***Nt = N0 (1 + r)^t*** where 'r' is b (birth rate) - d (death rate)\n",
        "##### 3- Logistical Growth: ***Nt = Nt + rNt [(K-Nt)/K]***"
      ],
      "metadata": {
        "id": "MzK7wRNmHfxj"
      }
    },
    {
      "cell_type": "code",
      "source": [
        "import ecology as ec\n",
        "\n",
        "ec.exponential_growth(100,0.35,5)\n",
        "\n",
        "ec.dif_exponential_growth(100,0.72,0.53,10)\n",
        "\n",
        "ec.logistic_growth(300,0.8,1000,5000)"
      ],
      "metadata": {
        "colab": {
          "base_uri": "https://localhost:8080/"
        },
        "id": "M1eApZHAHjfj",
        "outputId": "8b0cdf14-7cba-4c71-cd9f-cf5a0e04fd24"
      },
      "execution_count": 2,
      "outputs": [
        {
          "output_type": "stream",
          "name": "stdout",
          "text": [
            "The value of Nt is 448\n",
            "The value of Nt is 569\n",
            "The value of Nt is 5000\n"
          ]
        }
      ]
    }
  ]
}